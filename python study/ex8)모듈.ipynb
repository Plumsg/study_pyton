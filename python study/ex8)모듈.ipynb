{
 "cells": [
  {
   "cell_type": "code",
   "execution_count": 9,
   "id": "25a0d8c2",
   "metadata": {},
   "outputs": [],
   "source": [
    "# 만든 모듈 사용하기\n",
    "#모듈 이름을 파일 이름과 동일하게 사용하기(ex <module_test.py> import module_test)\n",
    "#직접 만든 module_test\n",
    "#as 별명\n",
    "import module_test as mt # module_test01을  mt라는 별명으로 사용"
   ]
  },
  {
   "cell_type": "code",
   "execution_count": 11,
   "id": "9f34e2fc",
   "metadata": {},
   "outputs": [
    {
     "data": {
      "text/plain": [
       "8"
      ]
     },
     "execution_count": 11,
     "metadata": {},
     "output_type": "execute_result"
    }
   ],
   "source": [
    "#module_test가 각지고 있는 함수들\n",
    "#sum_test\n",
    "#mol_test\n",
    "module_test.sum_test(2,6)"
   ]
  },
  {
   "cell_type": "code",
   "execution_count": null,
   "id": "aa6a2647",
   "metadata": {},
   "outputs": [],
   "source": [
    "#모듈안에있는 함수 한개 불러오기"
   ]
  },
  {
   "cell_type": "code",
   "execution_count": 6,
   "id": "20679905",
   "metadata": {},
   "outputs": [],
   "source": [
    "from module_test import sum_test"
   ]
  },
  {
   "cell_type": "code",
   "execution_count": 7,
   "id": "cb7f19fb",
   "metadata": {},
   "outputs": [
    {
     "data": {
      "text/plain": [
       "9"
      ]
     },
     "execution_count": 7,
     "metadata": {},
     "output_type": "execute_result"
    }
   ],
   "source": [
    "sum_test(2,7)"
   ]
  },
  {
   "cell_type": "code",
   "execution_count": null,
   "id": "fa976e84",
   "metadata": {},
   "outputs": [],
   "source": []
  }
 ],
 "metadata": {
  "kernelspec": {
   "display_name": "Python 3 (ipykernel)",
   "language": "python",
   "name": "python3"
  },
  "language_info": {
   "codemirror_mode": {
    "name": "ipython",
    "version": 3
   },
   "file_extension": ".py",
   "mimetype": "text/x-python",
   "name": "python",
   "nbconvert_exporter": "python",
   "pygments_lexer": "ipython3",
   "version": "3.10.9"
  }
 },
 "nbformat": 4,
 "nbformat_minor": 5
}
